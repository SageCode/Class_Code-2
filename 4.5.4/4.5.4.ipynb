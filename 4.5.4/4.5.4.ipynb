{
 "cells": [
  {
   "cell_type": "code",
   "execution_count": 1,
   "metadata": {
    "collapsed": false
   },
   "outputs": [
    {
     "name": "stdout",
     "output_type": "stream",
     "text": [
      "[  0.75     1.7885   2.8269   3.8654   4.9038   5.9423   6.9808   8.0192\n",
      "   9.0577  10.0962  11.1346  12.1731  13.2115  14.25  ]\n"
     ]
    }
   ],
   "source": [
    "import numpy as np\n",
    "\n",
    "f, a, da = np.loadtxt(\"4.5.3text\",\n",
    "skiprows=3 , unpack=True,)\n",
    "print f"
   ]
  },
  {
   "cell_type": "code",
   "execution_count": 18,
   "metadata": {
    "collapsed": false
   },
   "outputs": [],
   "source": [
    "intro = \"Date: 2013-09-16\"\n",
    "intro += \"\\nData taken by William and Selena.\"\n",
    "intro += \"\\n\\n Frequency     Amplitue     Amplitude Error\"\n",
    "intro += \"\\n\"\n",
    "np.savetxt(\"Output.txt\", zip(f, a, da), fmt=\"%12.4f\", header=intro)"
   ]
  },
  {
   "cell_type": "code",
   "execution_count": null,
   "metadata": {
    "collapsed": true
   },
   "outputs": [],
   "source": []
  }
 ],
 "metadata": {
  "kernelspec": {
   "display_name": "Python 2",
   "language": "python",
   "name": "python2"
  },
  "language_info": {
   "codemirror_mode": {
    "name": "ipython",
    "version": 2
   },
   "file_extension": ".py",
   "mimetype": "text/x-python",
   "name": "python",
   "nbconvert_exporter": "python",
   "pygments_lexer": "ipython2",
   "version": "2.7.11"
  }
 },
 "nbformat": 4,
 "nbformat_minor": 0
}
