{
 "cells": [
  {
   "cell_type": "code",
   "execution_count": 1,
   "metadata": {
    "collapsed": false
   },
   "outputs": [
    {
     "name": "stdout",
     "output_type": "stream",
     "text": [
      "Welcome to your daily budget calculator!\n",
      "How much money (in dollars) is in your lunch account?\n",
      "157\n",
      "What day of the month is today?\n",
      "12\n",
      "What month is this?\n",
      "sep\n",
      "You can spend $8.72 each day for the rest of this month.\n"
     ]
    }
   ],
   "source": [
    "import numpy as np\n",
    "print(\"Welcome to your daily budget calculator!\")\n",
    "print(\"How much money (in dollars) is in your lunch account?\")\n",
    "total = input()\n",
    "print(\"What day of the month is today?\")\n",
    "day = input()\n",
    "months = {\"January\":31, \"Feburary\":28, \"March\":31, \"April\":30, \"May\":31, \"June\":30, \"July\":31, \"August\":31, \"September\":30, \"October\":31, \"November\":30, \"December\":31, \"january\":31, \"feburary\":28, \"march\":31, \"april\":30, \"may\":31, \"june\":30, \"july\":31, \"august\":31, \"september\":30, \"october\":31, \"november\":30, \"december\":31, \"jan\":31, \"feb\":28, \"mar\":31, \"apr\":30, \"may\":31, \"jun\":30, \"jul\":31, \"aug\":31, \"sep\":30, \"oct\":31, \"nov\":30, \"dec\":31}\n",
    "print(\"What month is this?\")\n",
    "month = raw_input()\n",
    "daytot = months[str(month)]\n",
    "dleft = float(daytot)-float(day)\n",
    "dspend = (float(total) / float(dleft))\n",
    "print(str(\"You can spend $\") + str(round(dspend, 2)) + str(\" each day for the rest of this month.\"))\n",
    "\n",
    "\n"
   ]
  },
  {
   "cell_type": "code",
   "execution_count": null,
   "metadata": {
    "collapsed": true
   },
   "outputs": [],
   "source": []
  }
 ],
 "metadata": {
  "kernelspec": {
   "display_name": "Python 2",
   "language": "python",
   "name": "python2"
  },
  "language_info": {
   "codemirror_mode": {
    "name": "ipython",
    "version": 2
   },
   "file_extension": ".py",
   "mimetype": "text/x-python",
   "name": "python",
   "nbconvert_exporter": "python",
   "pygments_lexer": "ipython2",
   "version": "2.7.11"
  }
 },
 "nbformat": 4,
 "nbformat_minor": 0
}
