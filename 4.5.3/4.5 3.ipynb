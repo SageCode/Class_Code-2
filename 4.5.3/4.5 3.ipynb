{
 "cells": [
  {
   "cell_type": "code",
   "execution_count": 15,
   "metadata": {
    "collapsed": false
   },
   "outputs": [
    {
     "name": "stdout",
     "output_type": "stream",
     "text": [
      "[  0.75     1.7885   2.8269   3.8654   4.9038   5.9423   6.9808   8.0192\n",
      "   9.0577  10.0962  11.1346  12.1731  13.2115  14.25  ]\n"
     ]
    }
   ],
   "source": [
    "import numpy as np\n",
    "\n",
    "f, a, da = np.loadtxt(\"4.5.3text\",\n",
    "skiprows=3 , unpack=True,)\n",
    "print f"
   ]
  },
  {
   "cell_type": "code",
   "execution_count": 17,
   "metadata": {
    "collapsed": false
   },
   "outputs": [
    {
     "name": "stdout",
     "output_type": "stream",
     "text": [
      "[ 13.52  12.11  14.27  16.6   22.91  35.28  60.99  33.38  17.78  10.99\n",
      "   7.47   6.72   4.4    4.07]\n"
     ]
    }
   ],
   "source": [
    "print a\n"
   ]
  },
  {
   "cell_type": "code",
   "execution_count": 18,
   "metadata": {
    "collapsed": false
   },
   "outputs": [
    {
     "name": "stdout",
     "output_type": "stream",
     "text": [
      "[ 0.32  0.92  0.73  2.06  1.75  0.91  0.99  0.36  2.32  0.21  0.48  0.51\n",
      "  0.58  0.63]\n"
     ]
    }
   ],
   "source": [
    "print da"
   ]
  },
  {
   "cell_type": "code",
   "execution_count": null,
   "metadata": {
    "collapsed": true
   },
   "outputs": [],
   "source": []
  }
 ],
 "metadata": {
  "kernelspec": {
   "display_name": "Python 2",
   "language": "python",
   "name": "python2"
  },
  "language_info": {
   "codemirror_mode": {
    "name": "ipython",
    "version": 2
   },
   "file_extension": ".py",
   "mimetype": "text/x-python",
   "name": "python",
   "nbconvert_exporter": "python",
   "pygments_lexer": "ipython2",
   "version": "2.7.11"
  }
 },
 "nbformat": 4,
 "nbformat_minor": 0
}
